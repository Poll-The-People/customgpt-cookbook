{
  "cells": [
    {
      "cell_type": "code",
      "execution_count": 17,
      "metadata": {
        "id": "eZWXtZ0nfAoA"
      },
      "outputs": [],
      "source": [
        "# setup API URL and API Token\n",
        "api_endpoint = 'https://app.customgpt.ai/api/v1/'\n",
        "# api_token = 'ADD_YOUR_API_TOKEN_HERE'\n",
        "api_token = 'YOUR_API_KEY'\n",
        "headers = {\n",
        "    'Content-Type': 'application/json',\n",
        "    'Authorization': 'Bearer ' + api_token\n",
        "}\n",
        "\n",
        "# imports\n",
        "import requests\n",
        "import json"
      ]
    },
    {
      "cell_type": "markdown",
      "metadata": {
        "id": "b4Zh1NvwfUx0"
      },
      "source": [
        "**Create a Chatbot**"
      ]
    },
    {
      "cell_type": "code",
      "execution_count": 18,
      "metadata": {
        "colab": {
          "base_uri": "https://localhost:8080/"
        },
        "id": "AGD7EdMYgXUD",
        "outputId": "4e1a3cb7-e97e-4001-c96e-3c670a7d662b"
      },
      "outputs": [
        {
          "name": "stdout",
          "output_type": "stream",
          "text": [
            "{\"data\":{\"id\":1242,\"project_name\":\"Example ChatBot using Sitemap\",\"sitemap_path\":null,\"user_id\":42,\"is_chat_active\":null,\"created_at\":\"2023-09-29T11:16:43.000000Z\",\"updated_at\":\"2023-09-29T11:16:43.000000Z\",\"is_shared\":null,\"deleted_at\":null,\"type\":\"SITEMAP\"},\"status\":\"success\"}\n"
          ]
        }
      ],
      "source": [
        "project_name = 'Example ChatBot using Sitemap'\n",
        "sitemap_path = 'https://adorosario.github.io/small-sitemap.xml'\n",
        "\n",
        "payload = json.dumps({\n",
        "    \"project_name\": project_name,\n",
        "    \"sitemap_path\": sitemap_path\n",
        "})\n",
        "\n",
        "url = api_endpoint + 'projects'\n",
        "\n",
        "create_project = requests.request('POST', url, headers=headers, data=payload)\n",
        "print(create_project.text)"
      ]
    },
    {
      "cell_type": "markdown",
      "metadata": {
        "id": "_fQc28ICgbZ6"
      },
      "source": [
        "**Get a project page**"
      ]
    },
    {
      "cell_type": "code",
      "execution_count": null,
      "metadata": {
        "colab": {
          "base_uri": "https://localhost:8080/"
        },
        "id": "iE7Urhq7g06t",
        "outputId": "f7bed6c6-7b63-42ee-8739-e5375b1dea96"
      },
      "outputs": [
        {
          "name": "stdout",
          "output_type": "stream",
          "text": [
            "29814\n"
          ]
        }
      ],
      "source": [
        "# Check status of the project if chat bot is active\n",
        "data = json.loads(create_project.text)[\"data\"]\n",
        "\n",
        "# Get project id from response for created project\n",
        "project_id = data[\"id\"]\n",
        "url = api_endpoint + 'projects' + f\"/{project_id}\" + '/pages'\n",
        "\n",
        "project_pages = requests.request('GET', url, headers=headers)\n",
        "data = json.loads(project_pages.text)['data']\n",
        "\n",
        "page_id = data['pages']['data'][0]['id']\n",
        "print(page_id)"
      ]
    },
    {
      "cell_type": "markdown",
      "metadata": {
        "id": "2HMP-W40jXH-"
      },
      "source": [
        "**Get page metadata**"
      ]
    },
    {
      "cell_type": "code",
      "execution_count": null,
      "metadata": {
        "colab": {
          "base_uri": "https://localhost:8080/"
        },
        "id": "bJYqBzHdiFHv",
        "outputId": "55bdab71-87da-4876-d686-0522a7d1e926"
      },
      "outputs": [
        {
          "name": "stdout",
          "output_type": "stream",
          "text": [
            "<Response [200]>\n",
            "Brady's unprecedented career filled with highlight moments\n"
          ]
        }
      ],
      "source": [
        "url = api_endpoint + 'projects' + f\"/{project_id}\" + '/pages' + f\"/{page_id}\" +'/metadata'\n",
        "page_metadata = requests.request('GET', url, headers=headers)\n",
        "print(page_metadata)\n",
        "\n",
        "data = json.loads(page_metadata.text)['data']\n",
        "title = data['title']\n",
        "print(title)"
      ]
    },
    {
      "cell_type": "markdown",
      "metadata": {
        "id": "PxWvN0yAoaWU"
      },
      "source": [
        "**Update Project Metadata**"
      ]
    },
    {
      "cell_type": "code",
      "execution_count": null,
      "metadata": {
        "colab": {
          "base_uri": "https://localhost:8080/"
        },
        "id": "m6axeH_KoeSC",
        "outputId": "1d4d7223-87d3-458a-897d-15dc6cc11811"
      },
      "outputs": [
        {
          "name": "stdout",
          "output_type": "stream",
          "text": [
            "b'{\"data\":{\"id\":27,\"page_id\":29814,\"title\":\"Test2\",\"url\":\"https:\\\\/\\\\/apnews.com\\\\/article\\\\/tom-brady-tampa-bay-buccaneers-new-england-patriots-indianapolis-colts-denver-broncos-64c660906bfdd828c9cf69e94cfefcb7\",\"description\":\"Nobody drove Tom Brady  harder than the record-setting quarterback himself, even if his 23rd and final season after a brief retirement didn\\'t end with him lifting yet another Lombardi Trophy.\",\"image\":\"https:\\\\/\\\\/storage.googleapis.com\\\\/afs-prod\\\\/media\\\\/12a7f215ea6d48e39a3960de7b9384d6\\\\/3000.jpeg\",\"created_at\":\"2023-09-29T11:17:00.000000Z\",\"updated_at\":\"2023-09-29T11:17:04.000000Z\",\"deleted_at\":null},\"status\":\"success\"}'\n"
          ]
        }
      ],
      "source": [
        "payload = json.dumps({\n",
        "    \"title\": \"Test2\"\n",
        "})\n",
        "\n",
        "response = requests.request('PUT', url, headers=headers, data=payload)\n",
        "print(response.content)"
      ]
    }
  ],
  "metadata": {
    "colab": {
      "provenance": []
    },
    "kernelspec": {
      "display_name": "Python 3",
      "name": "python3"
    },
    "language_info": {
      "name": "python"
    }
  },
  "nbformat": 4,
  "nbformat_minor": 0
}
