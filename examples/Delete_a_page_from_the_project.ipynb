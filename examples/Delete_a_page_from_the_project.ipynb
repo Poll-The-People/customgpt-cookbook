{
  "cells": [
    {
      "cell_type": "markdown",
      "metadata": {
        "id": "PAWpaaSa1WLi"
      },
      "source": [
        "**Delete a page from the project**\n"
      ]
    },
    {
      "cell_type": "code",
      "execution_count": 1,
      "metadata": {
        "id": "Hc9SsdoR1WLm"
      },
      "outputs": [],
      "source": [
        "# setup API URL and API Token\n",
        "api_endpoint = 'https://app.customgpt.ai/api/v1/'\n",
        "api_token = 'ADD_YOUR_API_TOKEN_HERE'\n",
        "\n",
        "headers = {\n",
        "    'Content-type': 'application/json',\n",
        "    'Authorization': 'Bearer ' + api_token\n",
        "}\n",
        "# imports\n",
        "import requests\n",
        "import json"
      ]
    },
    {
      "cell_type": "markdown",
      "metadata": {
        "id": "SDGeV1BbMTmS"
      },
      "source": [
        "**Create a project for the account**"
      ]
    },
    {
      "cell_type": "code",
      "execution_count": 13,
      "metadata": {
        "colab": {
          "base_uri": "https://localhost:8080/"
        },
        "id": "PNbGtm_A1WLp",
        "outputId": "d03b23b6-a42d-49ca-a08b-797249aff1c5"
      },
      "outputs": [
        {
          "name": "stdout",
          "output_type": "stream",
          "text": [
            "{\"data\":{\"id\":522,\"project_name\":\"Example ChatBot using Sitemap\",\"sitemap_path\":null,\"user_id\":35,\"is_chat_active\":null,\"created_at\":\"2023-06-24T21:38:54.000000Z\",\"updated_at\":\"2023-06-24T21:38:54.000000Z\",\"is_shared\":null,\"deleted_at\":null,\"type\":\"SITEMAP\"},\"status\":\"success\"}\n"
          ]
        }
      ],
      "source": [
        "# Give a name to your project\n",
        "project_name = 'Example ChatBot using Sitemap'\n",
        "sitemap_path = 'https://adorosario.github.io/small-sitemap.xml'\n",
        "\n",
        "payload = json.dumps({\n",
        "    \"project_name\": project_name,\n",
        "    \"sitemap_path\": sitemap_path\n",
        "})\n",
        "\n",
        "url = api_endpoint + 'projects'\n",
        "\n",
        "create_project = requests.request('POST', url, headers=headers, data=payload)\n",
        "print(create_project.text)"
      ]
    },
    {
      "cell_type": "markdown",
      "metadata": {
        "id": "PpE82Xu4XCRY"
      },
      "source": [
        "**Create some conversations to fill out project pages**"
      ]
    },
    {
      "cell_type": "code",
      "execution_count": null,
      "metadata": {
        "colab": {
          "base_uri": "https://localhost:8080/"
        },
        "id": "iMHuDBmDWcLU",
        "outputId": "517c8f36-5c42-424b-da97-91c280b6b44b"
      },
      "outputs": [
        {
          "name": "stdout",
          "output_type": "stream",
          "text": [
            "{\"data\":{\"project_id\":522,\"name\":\"Example ChatBot using Sitemap\",\"created_by\":35,\"session_id\":\"bae1efb6-efd3-4644-a544-3e8b85d5d746\",\"updated_at\":\"2023-06-24T21:42:28.000000Z\",\"created_at\":\"2023-06-24T21:42:28.000000Z\",\"id\":217},\"status\":\"success\"}\n"
          ]
        }
      ],
      "source": [
        "# Give a name to your project\n",
        "name = 'Test Converasation'\n",
        "\n",
        "project_id = json.loads(create_project.text)['data']['id']\n",
        "\n",
        "payload = json.dumps({\n",
        "    \"name\": project_name\n",
        "})\n",
        "\n",
        "url = api_endpoint + 'projects' + f\"/{project_id}\" + '/conversations'\n",
        "\n",
        "create_conversation = requests.request('POST', url, headers=headers, data=payload)\n",
        "print(create_conversation.text)"
      ]
    },
    {
      "cell_type": "markdown",
      "metadata": {
        "id": "3f0Raa_UOquJ"
      },
      "source": [
        "**Get Project pages**\n"
      ]
    },
    {
      "cell_type": "code",
      "execution_count": 17,
      "metadata": {
        "colab": {
          "base_uri": "https://localhost:8080/"
        },
        "id": "uoCUM2FdMR-V",
        "outputId": "9fdf1dd0-1ebd-42e5-e378-97f150944767"
      },
      "outputs": [
        {
          "name": "stdout",
          "output_type": "stream",
          "text": [
            "{\"data\":{\"project\":{\"id\":522,\"project_name\":\"Example ChatBot using Sitemap\",\"sitemap_path\":null,\"user_id\":35,\"is_chat_active\":1,\"created_at\":\"2023-06-24T21:38:54.000000Z\",\"updated_at\":\"2023-06-24T21:39:34.000000Z\",\"is_shared\":0,\"deleted_at\":null,\"type\":\"SITEMAP\"},\"pages\":{\"current_page\":1,\"data\":[{\"id\":11993,\"page_url\":\"https:\\/\\/apnews.com\\/article\\/tom-brady-tampa-bay-buccaneers-new-england-patriots-indianapolis-colts-denver-broncos-64c660906bfdd828c9cf69e94cfefcb7\",\"page_url_hash\":\"c63e5fb2e92bd5345c91f8d50b5b3736\",\"created_at\":\"2023-06-24T21:39:04.000000Z\",\"updated_at\":\"2023-06-24 21:40:24\",\"crawl_status\":\"ok\",\"index_status\":\"ok\",\"is_file\":false},{\"id\":11992,\"page_url\":\"https:\\/\\/apnews.com\\/article\\/tom-brady-retirement-a53ee71d6ab99276fd0765052c0dd7aa\",\"page_url_hash\":\"13d0ae8867ab1f7177464f48efaf28e2\",\"created_at\":\"2023-06-24T21:39:04.000000Z\",\"updated_at\":\"2023-06-24 21:40:25\",\"crawl_status\":\"ok\",\"index_status\":\"ok\",\"is_file\":false},{\"id\":11991,\"page_url\":\"https:\\/\\/apnews.com\\/article\\/tom-brady-announces-retirement-3ac2e55d0880672d330e8ff3d4318367\",\"page_url_hash\":\"fda42c4a04c24e0b00d4e39a597a782a\",\"created_at\":\"2023-06-24T21:39:04.000000Z\",\"updated_at\":\"2023-06-24 21:40:24\",\"crawl_status\":\"ok\",\"index_status\":\"ok\",\"is_file\":false},{\"id\":11990,\"page_url\":\"https:\\/\\/apnews.com\\/article\\/nfl-sports-entertainment-tom-brady-florida-60b97f2aaf51b83f0e76c7d07e7dc2cd\",\"page_url_hash\":\"388de9a2a5d51623ad69de0084ec4ee4\",\"created_at\":\"2023-06-24T21:39:04.000000Z\",\"updated_at\":\"2023-06-24 21:40:22\",\"crawl_status\":\"ok\",\"index_status\":\"ok\",\"is_file\":false},{\"id\":11989,\"page_url\":\"https:\\/\\/americanfootball.fandom.com\\/wiki\\/tom_brady\",\"page_url_hash\":\"ea128fabb583550dc26f539cd4ba6718\",\"created_at\":\"2023-06-24T21:39:04.000000Z\",\"updated_at\":\"2023-06-24 21:39:54\",\"crawl_status\":\"ok\",\"index_status\":\"n\\/a\",\"is_file\":false},{\"id\":11988,\"page_url\":\"https:\\/\\/alexaanswers.amazon.com\\/question\\/2zmobid9uhszpzjea8060k\",\"page_url_hash\":\"72b248ec584f6e5efdb08a92c83f8074\",\"created_at\":\"2023-06-24T21:39:04.000000Z\",\"updated_at\":\"2023-06-24 21:40:27\",\"crawl_status\":\"ok\",\"index_status\":\"n\\/a\",\"is_file\":false},{\"id\":11987,\"page_url\":\"https:\\/\\/abcnews.go.com\\/us\\/tom-brady-announces-retirement\\/story?id=96815178\",\"page_url_hash\":\"5a9027d19891a4f08358a2e7100ed6d5\",\"created_at\":\"2023-06-24T21:39:04.000000Z\",\"updated_at\":\"2023-06-24 21:39:47\",\"crawl_status\":\"ok\",\"index_status\":\"ok\",\"is_file\":false},{\"id\":11986,\"page_url\":\"https:\\/\\/985thesportshub.com\\/listicle\\/tom-brady-retiring-from-football-after-22-seasons-7-super-bowl-titles\\/\",\"page_url_hash\":\"ced794a09f3d91825453d9d141e75794\",\"created_at\":\"2023-06-24T21:39:04.000000Z\",\"updated_at\":\"2023-06-24 21:40:13\",\"crawl_status\":\"ok\",\"index_status\":\"ok\",\"is_file\":false},{\"id\":11985,\"page_url\":\"https:\\/\\/247sports.com\\/player\\/tom-brady-76179\\/\",\"page_url_hash\":\"b18a144a7b5de4a94cc57c64346ccf2f\",\"created_at\":\"2023-06-24T21:39:04.000000Z\",\"updated_at\":\"2023-06-24 21:39:34\",\"crawl_status\":\"ok\",\"index_status\":\"ok\",\"is_file\":false},{\"id\":11984,\"page_url\":\"https:\\/\\/1033thegoat.com\\/tom-brady-has-won-more-super-bowls-than-these-18-teams-combined\\/\",\"page_url_hash\":\"4d05356e44f08caf9bda3a7667d4f1aa\",\"created_at\":\"2023-06-24T21:39:04.000000Z\",\"updated_at\":\"2023-06-24 21:40:20\",\"crawl_status\":\"ok\",\"index_status\":\"ok\",\"is_file\":false}],\"first_page_url\":\"https:\\/\\/dev.customgpt.ai\\/api\\/v1\\/projects\\/522\\/pages?page=1\",\"from\":1,\"last_page\":1,\"last_page_url\":\"https:\\/\\/dev.customgpt.ai\\/api\\/v1\\/projects\\/522\\/pages?page=1\",\"next_page_url\":null,\"path\":\"https:\\/\\/dev.customgpt.ai\\/api\\/v1\\/projects\\/522\\/pages\",\"per_page\":20,\"prev_page_url\":null,\"to\":10,\"total\":10}},\"status\":\"success\"}\n"
          ]
        }
      ],
      "source": [
        "data = json.loads(create_project.text)[\"data\"]\n",
        "project_id = data[\"id\"]\n",
        "# Update the project\n",
        "url = api_endpoint + 'projects' + f\"/{project_id}\" + '/pages'\n",
        "\n",
        "project_pages = requests.request('GET', url, headers=headers)\n",
        "print(project_pages.text)"
      ]
    },
    {
      "cell_type": "markdown",
      "metadata": {
        "id": "nC0s7U36VOVA"
      },
      "source": [
        "**Delete a project page**"
      ]
    },
    {
      "cell_type": "code",
      "execution_count": 26,
      "metadata": {
        "colab": {
          "base_uri": "https://localhost:8080/"
        },
        "id": "fHnPwfB2VVPO",
        "outputId": "dd3ebadc-ea0d-4f71-ace0-3e5d1cc0c63e"
      },
      "outputs": [
        {
          "name": "stdout",
          "output_type": "stream",
          "text": [
            "11993\n",
            "{\"data\":{\"deleted\":true},\"status\":\"success\"}\n"
          ]
        }
      ],
      "source": [
        "data = json.loads(project_pages.text)[\"data\"]\n",
        "page_id = data[\"pages\"]['data'][0]['id']\n",
        "print(page_id)\n",
        "# Update the project\n",
        "url = api_endpoint + 'projects' + f\"/{project_id}\" + '/pages' + f\"/{page_id}\"\n",
        "\n",
        "delete_page = requests.request('DELETE', url, headers=headers)\n",
        "print(delete_page .text)"
      ]
    },
    {
      "cell_type": "code",
      "execution_count": null,
      "metadata": {
        "id": "ZS90sURtXhxU"
      },
      "outputs": [],
      "source": []
    }
  ],
  "metadata": {
    "colab": {
      "provenance": []
    },
    "kernelspec": {
      "display_name": "Python 3",
      "language": "python",
      "name": "python3"
    },
    "language_info": {
      "codemirror_mode": {
        "name": "ipython",
        "version": 3
      },
      "file_extension": ".py",
      "mimetype": "text/x-python",
      "name": "python",
      "nbconvert_exporter": "python",
      "pygments_lexer": "ipython3",
      "version": "3.11.2"
    },
    "orig_nbformat": 4
  },
  "nbformat": 4,
  "nbformat_minor": 0
}
