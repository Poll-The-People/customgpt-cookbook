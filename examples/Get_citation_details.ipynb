{
  "cells": [
    {
      "cell_type": "markdown",
      "metadata": {
        "id": "PAWpaaSa1WLi"
      },
      "source": [
        "**Get citation details**"
      ]
    },
    {
      "cell_type": "code",
      "execution_count": 43,
      "metadata": {
        "id": "Hc9SsdoR1WLm"
      },
      "outputs": [],
      "source": [
        "# setup API URL and API Token\n",
        "api_endpoint = 'https://app.customgpt.ai/api/v1/'\n",
        "api_token = 'YOUR_API_TOKEN'\n",
        "\n",
        "# imports\n",
        "import requests\n",
        "import json"
      ]
    },
    {
      "cell_type": "markdown",
      "metadata": {
        "id": "SDGeV1BbMTmS"
      },
      "source": [
        "**Create a project for the account**"
      ]
    },
    {
      "cell_type": "code",
      "execution_count": null,
      "metadata": {
        "id": "PNbGtm_A1WLp"
      },
      "outputs": [],
      "source": [
        "# This endpoint is multipart/form-data\n",
        "from google.colab import files\n",
        "\n",
        "# Give a name to your project\n",
        "project_name = 'Example ChatBot using Sitemap'\n",
        "sitemap_path = 'https://adorosario.github.io/small-sitemap.xml'\n",
        "\n",
        "# For File Upload\n",
        "# uploaded_file = files.upload()\n",
        "# file_content = next(iter(uploaded_file.values()))\n",
        "# file_data = file_content\n",
        "\n",
        "payload = {\n",
        "    \"project_name\": (None, project_name),\n",
        "    \"sitemap_path\": (None, sitemap_path)\n",
        "    # \"file\": file_data\n",
        "}\n",
        "headers = {\n",
        "    'Authorization': 'Bearer ' + api_token\n",
        "}\n",
        "\n",
        "\n",
        "url = api_endpoint + 'projects'\n",
        "create_project = requests.request('POST', url, headers=headers, files=payload)\n",
        "print(create_project.text)"
      ]
    },
    {
      "cell_type": "markdown",
      "metadata": {
        "id": "3f0Raa_UOquJ"
      },
      "source": [
        "**Create Project Conversation**"
      ]
    },
    {
      "cell_type": "code",
      "execution_count": null,
      "metadata": {
        "id": "uoCUM2FdMR-V"
      },
      "outputs": [],
      "source": [
        "data = json.loads(create_project.text)[\"data\"]\n",
        "project_id = data[\"id\"]\n",
        "\n",
        "# set conversation name\n",
        "name = 'Test Converasation'\n",
        "\n",
        "payload = json.dumps({\n",
        "    \"name\": project_name\n",
        "})\n",
        "headers = {\n",
        "    'Content-type' : 'application/json',\n",
        "    'Authorization': 'Bearer ' + api_token\n",
        "}\n",
        "url = api_endpoint + 'projects' + f\"/{project_id}\" + '/conversations'\n",
        "\n",
        "create_conversation = requests.request('POST', url, headers=headers, data=payload)\n",
        "print(create_conversation.text)"
      ]
    },
    {
      "cell_type": "markdown",
      "metadata": {
        "id": "_yGXSwRbP6qi"
      },
      "source": [
        "**Send Message to conversation**"
      ]
    },
    {
      "cell_type": "code",
      "execution_count": null,
      "metadata": {
        "id": "rBvJ0XXL9pWZ"
      },
      "outputs": [],
      "source": [
        "!pip install sseclient-py\n",
        "from sseclient import SSEClient"
      ]
    },
    {
      "cell_type": "code",
      "execution_count": null,
      "metadata": {
        "id": "0xnMN8tQUQXj"
      },
      "outputs": [],
      "source": [
        "# Create a message to the above conversation\n",
        "conversation_data = json.loads(create_conversation.text)[\"data\"]\n",
        "\n",
        "# session_id is important to maintain chat history\n",
        "session_id = conversation_data[\"session_id\"]\n",
        "\n",
        "# pass in your question to prompt\n",
        "prompt = \"Who is Tom brady\"\n",
        "\n",
        "# set stream to 1 to get a streaming response\n",
        "stream = 0\n",
        "url = api_endpoint + 'projects/' + str(project_id) + '/conversations/' + str(session_id) + '/messages'\n",
        "payload = json.dumps({\n",
        "    \"prompt\": prompt,\n",
        "    \"stream\": stream\n",
        "})\n",
        "\n",
        "response = requests.post(url, stream=False, headers=headers, data=payload)\n",
        "print(response.text)"
      ]
    },
    {
      "cell_type": "markdown",
      "metadata": {
        "id": "ITA7rjBGn5yJ"
      },
      "source": [
        "**Get citation id from message and check citation details**"
      ]
    },
    {
      "cell_type": "code",
      "execution_count": null,
      "metadata": {
        "id": "kBp7_HCuoDmE"
      },
      "outputs": [],
      "source": [
        "message_data = json.loads(response.text)['data']\n",
        "citation_id = message_data['citations'][0]\n",
        "\n",
        "url = api_endpoint + 'projects/' + str(project_id) + '/citations/' + str(citation_id)\n",
        "citation_response = requests.get(url, headers=headers, data=payload)\n",
        "\n",
        "print(citation_response.text)"
      ]
    }
  ],
  "metadata": {
    "colab": {
      "provenance": []
    },
    "kernelspec": {
      "display_name": "Python 3",
      "language": "python",
      "name": "python3"
    },
    "language_info": {
      "codemirror_mode": {
        "name": "ipython",
        "version": 3
      },
      "file_extension": ".py",
      "mimetype": "text/x-python",
      "name": "python",
      "nbconvert_exporter": "python",
      "pygments_lexer": "ipython3",
      "version": "3.11.2"
    },
    "orig_nbformat": 4
  },
  "nbformat": 4,
  "nbformat_minor": 0
}
