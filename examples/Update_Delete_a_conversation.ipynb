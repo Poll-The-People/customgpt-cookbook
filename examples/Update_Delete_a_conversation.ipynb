{
  "cells": [
    {
      "cell_type": "markdown",
      "metadata": {
        "id": "PAWpaaSa1WLi"
      },
      "source": [
        "**Update/Delete a conversation**\n"
      ]
    },
    {
      "cell_type": "code",
      "execution_count": null,
      "metadata": {
        "id": "Hc9SsdoR1WLm"
      },
      "outputs": [],
      "source": [
        "# setup API URL and API Token\n",
        "api_endpoint = 'https://app.customgpt.ai/api/v1/'\n",
        "api_token = 'ADD_YOUR_API_TOKEN_HERE'\n",
        "\n",
        "headers = {\n",
        "    'Content-type': 'application/json',\n",
        "    'Authorization': 'Bearer ' + api_token\n",
        "}\n",
        "\n",
        "# imports\n",
        "import requests\n",
        "import json"
      ]
    },
    {
      "cell_type": "markdown",
      "metadata": {
        "id": "SDGeV1BbMTmS"
      },
      "source": [
        "**Create a project for the account**"
      ]
    },
    {
      "cell_type": "code",
      "execution_count": 3,
      "metadata": {
        "colab": {
          "base_uri": "https://localhost:8080/"
        },
        "id": "PNbGtm_A1WLp",
        "outputId": "1a587e6e-222f-4cc2-f84c-b5e5d515a496"
      },
      "outputs": [
        {
          "name": "stdout",
          "output_type": "stream",
          "text": [
            "{\"data\":{\"id\":532,\"project_name\":\"Example ChatBot using Sitemap\",\"sitemap_path\":null,\"user_id\":35,\"is_chat_active\":null,\"created_at\":\"2023-06-25T17:23:34.000000Z\",\"updated_at\":\"2023-06-25T17:23:34.000000Z\",\"is_shared\":null,\"deleted_at\":null,\"type\":\"SITEMAP\"},\"status\":\"success\"}\n"
          ]
        }
      ],
      "source": [
        "# Give a name to your project\n",
        "project_name = 'Example ChatBot using Sitemap'\n",
        "sitemap_path = 'https://adorosario.github.io/small-sitemap.xml'\n",
        "\n",
        "payload = json.dumps({\n",
        "    \"project_name\": project_name,\n",
        "    \"sitemap_path\": sitemap_path\n",
        "})\n",
        "\n",
        "url = api_endpoint + 'projects'\n",
        "\n",
        "create_project = requests.request('POST', url, headers=headers, data=payload)\n",
        "print(create_project.text)"
      ]
    },
    {
      "cell_type": "markdown",
      "metadata": {
        "id": "3f0Raa_UOquJ"
      },
      "source": [
        "**Create Project Conversation**\n"
      ]
    },
    {
      "cell_type": "code",
      "execution_count": 4,
      "metadata": {
        "colab": {
          "base_uri": "https://localhost:8080/"
        },
        "id": "uoCUM2FdMR-V",
        "outputId": "d849a801-fd1a-40b8-98b1-f7b39c9fd8e1"
      },
      "outputs": [
        {
          "name": "stdout",
          "output_type": "stream",
          "text": [
            "{\"data\":{\"project_id\":532,\"name\":\"Example ChatBot using Sitemap\",\"created_by\":35,\"session_id\":\"8ff8078b-3e88-4ad1-8e3f-9a37324964af\",\"updated_at\":\"2023-06-25T17:23:34.000000Z\",\"created_at\":\"2023-06-25T17:23:34.000000Z\",\"id\":222},\"status\":\"success\"}\n"
          ]
        }
      ],
      "source": [
        "data = json.loads(create_project.text)[\"data\"]\n",
        "project_id = data[\"id\"]\n",
        "# Get the project settings\n",
        "name = 'Test Converasation'\n",
        "\n",
        "payload = json.dumps({\n",
        "    \"name\": project_name\n",
        "})\n",
        "\n",
        "url = api_endpoint + 'projects' + f\"/{project_id}\" + '/conversations'\n",
        "\n",
        "create_conversation = requests.request('POST', url, headers=headers, data=payload)\n",
        "print(create_conversation.text)"
      ]
    },
    {
      "cell_type": "markdown",
      "metadata": {
        "id": "_yGXSwRbP6qi"
      },
      "source": [
        "**Update a conversation name**\n",
        "\n"
      ]
    },
    {
      "cell_type": "code",
      "execution_count": 9,
      "metadata": {
        "colab": {
          "base_uri": "https://localhost:8080/"
        },
        "id": "0xnMN8tQUQXj",
        "outputId": "d18aa18b-1e3d-4a6a-e463-ac04c826b4ee"
      },
      "outputs": [
        {
          "name": "stdout",
          "output_type": "stream",
          "text": [
            "{\"data\":{\"id\":222,\"created_at\":\"2023-06-25T17:23:34.000000Z\",\"updated_at\":\"2023-06-25T17:24:41.000000Z\",\"session_id\":\"8ff8078b-3e88-4ad1-8e3f-9a37324964af\",\"project_id\":532,\"created_by\":35,\"name\":\"Who is Tom\"},\"status\":\"success\"}\n"
          ]
        }
      ],
      "source": [
        "# Create a message to the above conversation\n",
        "conversation_data = json.loads(create_conversation.text)[\"data\"]\n",
        "\n",
        "# session_id is important to maintain chat history\n",
        "session_id = conversation_data[\"session_id\"]\n",
        "\n",
        "# pass in your question to prompt\n",
        "name = \"Who is Tom\"\n",
        "\n",
        "url = api_endpoint + 'projects/' + str(project_id) + '/conversations/' + str(session_id)\n",
        "payload = json.dumps({\n",
        "    \"name\": name\n",
        "})\n",
        "update_conversation_response = requests.put(url, headers=headers, data=payload)\n",
        "print(update_conversation_response.text)"
      ]
    },
    {
      "cell_type": "markdown",
      "metadata": {
        "id": "TSuIaZjbeUGu"
      },
      "source": [
        "**Delete a conversation**\n"
      ]
    },
    {
      "cell_type": "code",
      "execution_count": 10,
      "metadata": {
        "colab": {
          "base_uri": "https://localhost:8080/"
        },
        "id": "fB8eqoeslHZ5",
        "outputId": "53010079-7ba3-46ea-d235-c51e3ee01adb"
      },
      "outputs": [
        {
          "name": "stdout",
          "output_type": "stream",
          "text": [
            "{\"data\":{\"deleted\":true},\"status\":\"success\"}\n"
          ]
        }
      ],
      "source": [
        "url = api_endpoint + 'projects/' + str(project_id) + '/conversations/' + str(session_id)\n",
        "payload = json.dumps({\n",
        "    \"name\": name\n",
        "})\n",
        "delete_conversation_response = requests.delete(url, headers=headers)\n",
        "print(delete_conversation_response.text)"
      ]
    }
  ],
  "metadata": {
    "colab": {
      "provenance": []
    },
    "kernelspec": {
      "display_name": "Python 3",
      "language": "python",
      "name": "python3"
    },
    "language_info": {
      "codemirror_mode": {
        "name": "ipython",
        "version": 3
      },
      "file_extension": ".py",
      "mimetype": "text/x-python",
      "name": "python",
      "nbconvert_exporter": "python",
      "pygments_lexer": "ipython3",
      "version": "3.11.2"
    },
    "orig_nbformat": 4
  },
  "nbformat": 4,
  "nbformat_minor": 0
}
