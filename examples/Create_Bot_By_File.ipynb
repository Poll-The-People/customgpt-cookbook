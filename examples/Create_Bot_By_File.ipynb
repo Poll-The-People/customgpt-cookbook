{
  "cells": [
    {
      "cell_type": "markdown",
      "metadata": {
        "id": "PAWpaaSa1WLi"
      },
      "source": [
        "**Create your custom chat bot using a file.**\n"
      ]
    },
    {
      "cell_type": "code",
      "execution_count": null,
      "metadata": {
        "id": "Hc9SsdoR1WLm"
      },
      "outputs": [],
      "source": [
        "# setup API URL and API Token\n",
        "api_endpoint = 'https://app.customgpt.ai/api/v1/'\n",
        "api_token = 'ADD_YOUR_API_TOKEN_HERE'\n",
        "\n",
        "# imports\n",
        "import requests\n",
        "import json"
      ]
    },
    {
      "cell_type": "markdown",
      "metadata": {
        "id": "Z1ISHsxb1WLo"
      },
      "source": [
        "**An example for to create a project with a file**"
      ]
    },
    {
      "cell_type": "code",
      "execution_count": null,
      "metadata": {
        "colab": {
          "base_uri": "https://localhost:8080/",
          "height": 110
        },
        "id": "PNbGtm_A1WLp",
        "outputId": "fe50a87c-2a5e-48ed-95da-8a071ed44fee"
      },
      "outputs": [
        {
          "data": {
            "text/html": [
              "\n",
              "     <input type=\"file\" id=\"files-5916b129-9997-42fe-a0b5-38dc0ec74cce\" name=\"files[]\" multiple disabled\n",
              "        style=\"border:none\" />\n",
              "     <output id=\"result-5916b129-9997-42fe-a0b5-38dc0ec74cce\">\n",
              "      Upload widget is only available when the cell has been executed in the\n",
              "      current browser session. Please rerun this cell to enable.\n",
              "      </output>\n",
              "      <script>// Copyright 2017 Google LLC\n",
              "//\n",
              "// Licensed under the Apache License, Version 2.0 (the \"License\");\n",
              "// you may not use this file except in compliance with the License.\n",
              "// You may obtain a copy of the License at\n",
              "//\n",
              "//      http://www.apache.org/licenses/LICENSE-2.0\n",
              "//\n",
              "// Unless required by applicable law or agreed to in writing, software\n",
              "// distributed under the License is distributed on an \"AS IS\" BASIS,\n",
              "// WITHOUT WARRANTIES OR CONDITIONS OF ANY KIND, either express or implied.\n",
              "// See the License for the specific language governing permissions and\n",
              "// limitations under the License.\n",
              "\n",
              "/**\n",
              " * @fileoverview Helpers for google.colab Python module.\n",
              " */\n",
              "(function(scope) {\n",
              "function span(text, styleAttributes = {}) {\n",
              "  const element = document.createElement('span');\n",
              "  element.textContent = text;\n",
              "  for (const key of Object.keys(styleAttributes)) {\n",
              "    element.style[key] = styleAttributes[key];\n",
              "  }\n",
              "  return element;\n",
              "}\n",
              "\n",
              "// Max number of bytes which will be uploaded at a time.\n",
              "const MAX_PAYLOAD_SIZE = 100 * 1024;\n",
              "\n",
              "function _uploadFiles(inputId, outputId) {\n",
              "  const steps = uploadFilesStep(inputId, outputId);\n",
              "  const outputElement = document.getElementById(outputId);\n",
              "  // Cache steps on the outputElement to make it available for the next call\n",
              "  // to uploadFilesContinue from Python.\n",
              "  outputElement.steps = steps;\n",
              "\n",
              "  return _uploadFilesContinue(outputId);\n",
              "}\n",
              "\n",
              "// This is roughly an async generator (not supported in the browser yet),\n",
              "// where there are multiple asynchronous steps and the Python side is going\n",
              "// to poll for completion of each step.\n",
              "// This uses a Promise to block the python side on completion of each step,\n",
              "// then passes the result of the previous step as the input to the next step.\n",
              "function _uploadFilesContinue(outputId) {\n",
              "  const outputElement = document.getElementById(outputId);\n",
              "  const steps = outputElement.steps;\n",
              "\n",
              "  const next = steps.next(outputElement.lastPromiseValue);\n",
              "  return Promise.resolve(next.value.promise).then((value) => {\n",
              "    // Cache the last promise value to make it available to the next\n",
              "    // step of the generator.\n",
              "    outputElement.lastPromiseValue = value;\n",
              "    return next.value.response;\n",
              "  });\n",
              "}\n",
              "\n",
              "/**\n",
              " * Generator function which is called between each async step of the upload\n",
              " * process.\n",
              " * @param {string} inputId Element ID of the input file picker element.\n",
              " * @param {string} outputId Element ID of the output display.\n",
              " * @return {!Iterable<!Object>} Iterable of next steps.\n",
              " */\n",
              "function* uploadFilesStep(inputId, outputId) {\n",
              "  const inputElement = document.getElementById(inputId);\n",
              "  inputElement.disabled = false;\n",
              "\n",
              "  const outputElement = document.getElementById(outputId);\n",
              "  outputElement.innerHTML = '';\n",
              "\n",
              "  const pickedPromise = new Promise((resolve) => {\n",
              "    inputElement.addEventListener('change', (e) => {\n",
              "      resolve(e.target.files);\n",
              "    });\n",
              "  });\n",
              "\n",
              "  const cancel = document.createElement('button');\n",
              "  inputElement.parentElement.appendChild(cancel);\n",
              "  cancel.textContent = 'Cancel upload';\n",
              "  const cancelPromise = new Promise((resolve) => {\n",
              "    cancel.onclick = () => {\n",
              "      resolve(null);\n",
              "    };\n",
              "  });\n",
              "\n",
              "  // Wait for the user to pick the files.\n",
              "  const files = yield {\n",
              "    promise: Promise.race([pickedPromise, cancelPromise]),\n",
              "    response: {\n",
              "      action: 'starting',\n",
              "    }\n",
              "  };\n",
              "\n",
              "  cancel.remove();\n",
              "\n",
              "  // Disable the input element since further picks are not allowed.\n",
              "  inputElement.disabled = true;\n",
              "\n",
              "  if (!files) {\n",
              "    return {\n",
              "      response: {\n",
              "        action: 'complete',\n",
              "      }\n",
              "    };\n",
              "  }\n",
              "\n",
              "  for (const file of files) {\n",
              "    const li = document.createElement('li');\n",
              "    li.append(span(file.name, {fontWeight: 'bold'}));\n",
              "    li.append(span(\n",
              "        `(${file.type || 'n/a'}) - ${file.size} bytes, ` +\n",
              "        `last modified: ${\n",
              "            file.lastModifiedDate ? file.lastModifiedDate.toLocaleDateString() :\n",
              "                                    'n/a'} - `));\n",
              "    const percent = span('0% done');\n",
              "    li.appendChild(percent);\n",
              "\n",
              "    outputElement.appendChild(li);\n",
              "\n",
              "    const fileDataPromise = new Promise((resolve) => {\n",
              "      const reader = new FileReader();\n",
              "      reader.onload = (e) => {\n",
              "        resolve(e.target.result);\n",
              "      };\n",
              "      reader.readAsArrayBuffer(file);\n",
              "    });\n",
              "    // Wait for the data to be ready.\n",
              "    let fileData = yield {\n",
              "      promise: fileDataPromise,\n",
              "      response: {\n",
              "        action: 'continue',\n",
              "      }\n",
              "    };\n",
              "\n",
              "    // Use a chunked sending to avoid message size limits. See b/62115660.\n",
              "    let position = 0;\n",
              "    do {\n",
              "      const length = Math.min(fileData.byteLength - position, MAX_PAYLOAD_SIZE);\n",
              "      const chunk = new Uint8Array(fileData, position, length);\n",
              "      position += length;\n",
              "\n",
              "      const base64 = btoa(String.fromCharCode.apply(null, chunk));\n",
              "      yield {\n",
              "        response: {\n",
              "          action: 'append',\n",
              "          file: file.name,\n",
              "          data: base64,\n",
              "        },\n",
              "      };\n",
              "\n",
              "      let percentDone = fileData.byteLength === 0 ?\n",
              "          100 :\n",
              "          Math.round((position / fileData.byteLength) * 100);\n",
              "      percent.textContent = `${percentDone}% done`;\n",
              "\n",
              "    } while (position < fileData.byteLength);\n",
              "  }\n",
              "\n",
              "  // All done.\n",
              "  yield {\n",
              "    response: {\n",
              "      action: 'complete',\n",
              "    }\n",
              "  };\n",
              "}\n",
              "\n",
              "scope.google = scope.google || {};\n",
              "scope.google.colab = scope.google.colab || {};\n",
              "scope.google.colab._files = {\n",
              "  _uploadFiles,\n",
              "  _uploadFilesContinue,\n",
              "};\n",
              "})(self);\n",
              "</script> "
            ],
            "text/plain": [
              "<IPython.core.display.HTML object>"
            ]
          },
          "metadata": {},
          "output_type": "display_data"
        },
        {
          "name": "stdout",
          "output_type": "stream",
          "text": [
            "Saving story.pdf to story.pdf\n",
            "{\"data\":{\"id\":531,\"project_name\":\"Example ChatBot using Sitemap\",\"sitemap_path\":null,\"user_id\":35,\"is_chat_active\":null,\"created_at\":\"2023-06-25T17:11:58.000000Z\",\"updated_at\":\"2023-06-25T17:11:58.000000Z\",\"is_shared\":null,\"deleted_at\":null,\"type\":\"SITEMAP\"},\"status\":\"success\"}\n"
          ]
        }
      ],
      "source": [
        "from google.colab import files\n",
        "\n",
        "headers = {\n",
        "    'Authorization': 'Bearer ' + api_token\n",
        "}\n",
        "project_name = 'Example ChatBot using Sitemap'\n",
        "\n",
        "uploaded_file = files.upload()\n",
        "\n",
        "file_content = next(iter(uploaded_file.values()))\n",
        "\n",
        "file_data = file_content\n",
        "\n",
        "payload = {\n",
        "    \"project_name\": (None, project_name),\n",
        "    \"file\": file_data\n",
        "}\n",
        "\n",
        "url = api_endpoint + 'projects'\n",
        "\n",
        "create_project = requests.request('POST', url, headers=headers, files=payload)\n",
        "\n",
        "print(create_project.text)"
      ]
    },
    {
      "cell_type": "code",
      "execution_count": null,
      "metadata": {
        "colab": {
          "base_uri": "https://localhost:8080/"
        },
        "id": "D1La0GFc1WLq",
        "outputId": "65d54a75-3790-43c9-eaf2-f84a4a44826b"
      },
      "outputs": [
        {
          "name": "stdout",
          "output_type": "stream",
          "text": [
            "1\n"
          ]
        }
      ],
      "source": [
        "# Check status of the project if chat bot is active\n",
        "data = json.loads(create_project.text)[\"data\"]\n",
        "\n",
        "# Get project id from response for created project\n",
        "project_id = data[\"id\"]\n",
        "\n",
        "# Check if chat bot is active using `is_chat_active` flag in project detail response\n",
        "# GET project details\n",
        "url = api_endpoint + 'projects/' + str(project_id)\n",
        "\n",
        "get_project = requests.request('GET', url, headers=headers)\n",
        "\n",
        "project_data = json.loads(get_project.text)[\"data\"]\n",
        "is_chat_active = project_data[\"is_chat_active\"]\n",
        "\n",
        "print(is_chat_active)\n",
        "\n",
        "# One can poll this GET project details API to check if chat bot is active before starting a conversation\n"
      ]
    },
    {
      "cell_type": "code",
      "execution_count": 5,
      "metadata": {
        "colab": {
          "base_uri": "https://localhost:8080/"
        },
        "id": "ZnAs_Bhe1WLr",
        "outputId": "c8971853-cf9a-4ea5-ce4b-34ca83c683a7"
      },
      "outputs": [
        {
          "name": "stdout",
          "output_type": "stream",
          "text": [
            "{\"data\":{\"project_id\":531,\"name\":\"My First Conversation\",\"created_by\":35,\"session_id\":\"f9b27f03-c660-4e90-a5af-95278b61f350\",\"updated_at\":\"2023-06-25T17:12:08.000000Z\",\"created_at\":\"2023-06-25T17:12:08.000000Z\",\"id\":221},\"status\":\"success\"}\n"
          ]
        }
      ],
      "source": [
        "# Create a conversation before sending a message to the chat bot\n",
        "headers['Content-type'] = 'application/json'\n",
        "url = api_endpoint + 'projects/' + str(project_id) + '/conversations'\n",
        "\n",
        "payload = json.dumps({\n",
        "    \"name\": \"My First Conversation\"\n",
        "})\n",
        "\n",
        "create_conversation = requests.request(\"POST\", url, headers=headers, data=payload)\n",
        "print(create_conversation.text)"
      ]
    },
    {
      "cell_type": "code",
      "execution_count": 6,
      "metadata": {
        "colab": {
          "base_uri": "https://localhost:8080/"
        },
        "id": "-FXUfq-i1WLr",
        "outputId": "552791db-0132-4a9d-fe8a-cb9e715c68e7"
      },
      "outputs": [
        {
          "name": "stdout",
          "output_type": "stream",
          "text": [
            "Looking in indexes: https://pypi.org/simple, https://us-python.pkg.dev/colab-wheels/public/simple/\n",
            "Collecting sseclient-py\n",
            "  Downloading sseclient_py-1.7.2-py2.py3-none-any.whl (8.4 kB)\n",
            "Installing collected packages: sseclient-py\n",
            "Successfully installed sseclient-py-1.7.2\n"
          ]
        }
      ],
      "source": [
        "# for streaming response import SSE Client\n",
        "!pip install sseclient-py\n",
        "\n",
        "from sseclient import SSEClient"
      ]
    },
    {
      "cell_type": "code",
      "execution_count": 7,
      "metadata": {
        "colab": {
          "base_uri": "https://localhost:8080/"
        },
        "id": "B4gnIWk31WLs",
        "outputId": "bd86af2e-49c9-4dfc-bf7f-0d910869ce84"
      },
      "outputs": [
        {
          "name": "stdout",
          "output_type": "stream",
          "text": [
            "{\"status\":\"start\",\"prompt\":\"Who is Professor Mois ture\"}\n",
            "{\"status\":\"progress\",\"message\":\"\"}\n",
            "{\"status\":\"progress\",\"message\":\"Professor\"}\n",
            "{\"status\":\"progress\",\"message\":\" Mo\"}\n",
            "{\"status\":\"progress\",\"message\":\"is\"}\n",
            "{\"status\":\"progress\",\"message\":\" T\"}\n",
            "{\"status\":\"progress\",\"message\":\"ure\"}\n",
            "{\"status\":\"progress\",\"message\":\" is\"}\n",
            "{\"status\":\"progress\",\"message\":\" a\"}\n",
            "{\"status\":\"progress\",\"message\":\" character\"}\n",
            "{\"status\":\"progress\",\"message\":\" in\"}\n",
            "{\"status\":\"progress\",\"message\":\" the\"}\n",
            "{\"status\":\"progress\",\"message\":\" book\"}\n",
            "{\"status\":\"progress\",\"message\":\" who\"}\n",
            "{\"status\":\"progress\",\"message\":\" teaches\"}\n",
            "{\"status\":\"progress\",\"message\":\" about\"}\n",
            "{\"status\":\"progress\",\"message\":\" water\"}\n",
            "{\"status\":\"progress\",\"message\":\",\"}\n",
            "{\"status\":\"progress\",\"message\":\" rain\"}\n",
            "{\"status\":\"progress\",\"message\":\",\"}\n",
            "{\"status\":\"progress\",\"message\":\" hail\"}\n",
            "{\"status\":\"progress\",\"message\":\",\"}\n",
            "{\"status\":\"progress\",\"message\":\" s\"}\n",
            "{\"status\":\"progress\",\"message\":\"leet\"}\n",
            "{\"status\":\"progress\",\"message\":\",\"}\n",
            "{\"status\":\"progress\",\"message\":\" and\"}\n",
            "{\"status\":\"progress\",\"message\":\" the\"}\n",
            "{\"status\":\"progress\",\"message\":\" water\"}\n",
            "{\"status\":\"progress\",\"message\":\" cycle\"}\n",
            "{\"status\":\"progress\",\"message\":\".\"}\n",
            "{\"status\":\"finish\",\"id\":433,\"created_at\":\"2023-06-25T17:12:28.000000Z\",\"session_id\":\"f9b27f03-c660-4e90-a5af-95278b61f350\",\"citations\":[12074]}\n"
          ]
        }
      ],
      "source": [
        "# Create a message to the above conversation\n",
        "conversation_data = json.loads(create_conversation.text)[\"data\"]\n",
        "\n",
        "# session_id is important to maintain chat history\n",
        "session_id = conversation_data[\"session_id\"]\n",
        "\n",
        "# pass in your question to prompt\n",
        "prompt = \"Who is Professor Mois ture\"\n",
        "\n",
        "# set stream to 1 to get a streaming response\n",
        "stream = 1\n",
        "\n",
        "url = api_endpoint + 'projects/' + str(project_id) + '/conversations/' + str(session_id) + '/messages'\n",
        "payload = json.dumps({\n",
        "    \"prompt\": prompt,\n",
        "    \"stream\": stream\n",
        "})\n",
        "\n",
        "headers[\"Accept\"] = \"text/event-stream\"\n",
        "\n",
        "stream_response = requests.post(url, stream=True, headers=headers, data=payload)\n",
        "client = SSEClient(stream_response)\n",
        "for event in client.events():\n",
        "    print(event.data)"
      ]
    }
  ],
  "metadata": {
    "colab": {
      "provenance": []
    },
    "kernelspec": {
      "display_name": "Python 3",
      "language": "python",
      "name": "python3"
    },
    "language_info": {
      "codemirror_mode": {
        "name": "ipython",
        "version": 3
      },
      "file_extension": ".py",
      "mimetype": "text/x-python",
      "name": "python",
      "nbconvert_exporter": "python",
      "pygments_lexer": "ipython3",
      "version": "3.11.2"
    },
    "orig_nbformat": 4
  },
  "nbformat": 4,
  "nbformat_minor": 0
}
