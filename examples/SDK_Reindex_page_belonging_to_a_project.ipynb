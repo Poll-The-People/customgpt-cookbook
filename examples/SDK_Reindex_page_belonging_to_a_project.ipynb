{
  "cells": [
    {
      "cell_type": "code",
      "execution_count": null,
      "metadata": {
        "colab": {
          "base_uri": "https://localhost:8080/"
        },
        "id": "cMS4FTgtE0s1",
        "outputId": "4ec5cee9-7c46-465f-d26c-4d083db8b2ac"
      },
      "outputs": [],
      "source": [
        "!pip install customgpt-client"
      ]
    },
    {
      "cell_type": "markdown",
      "metadata": {
        "id": "PAWpaaSa1WLi"
      },
      "source": [
        "**Create your custom chat bot using a sitemap.**\n"
      ]
    },
    {
      "cell_type": "code",
      "execution_count": null,
      "metadata": {
        "id": "Hc9SsdoR1WLm"
      },
      "outputs": [],
      "source": [
        "from customgpt_client import CustomGPT\n",
        "CustomGPT.api_key = \"YOUR_API_TOKEN\""
      ]
    },
    {
      "cell_type": "markdown",
      "metadata": {
        "id": "Z1ISHsxb1WLo"
      },
      "source": [
        "**An example for to create a project with a sitemap**"
      ]
    },
    {
      "cell_type": "code",
      "execution_count": null,
      "metadata": {
        "id": "PNbGtm_A1WLp"
      },
      "outputs": [],
      "source": [
        "# Give a name to your project\n",
        "project_name = 'Example ChatBot using Sitemap'\n",
        "sitemap_path = 'https://adorosario.github.io/small-sitemap.xml'\n",
        "\n",
        "create_project = CustomGPT.Project.create(project_name=project_name, sitemap_path=sitemap_path)\n",
        "print(create_project)"
      ]
    },
    {
      "cell_type": "markdown",
      "metadata": {
        "id": "JgXAwGsFavRE"
      },
      "source": [
        "**Add conversation to fill in pages**"
      ]
    },
    {
      "cell_type": "code",
      "execution_count": null,
      "metadata": {
        "id": "D1La0GFc1WLq"
      },
      "outputs": [],
      "source": [
        "project_id = create_project.parsed.data.id\n",
        "\n",
        "# to make the chatbot sharable we will set is_shared to 1\n",
        "project_conversation = CustomGPT.Conversation.create(project_id=project_id, name='conversation')\n",
        "print(project_conversation)"
      ]
    },
    {
      "cell_type": "markdown",
      "metadata": {
        "id": "DYDQmEzvanvn"
      },
      "source": [
        "**Get Project Page**"
      ]
    },
    {
      "cell_type": "code",
      "execution_count": null,
      "metadata": {
        "id": "ptvLSyBIambC"
      },
      "outputs": [],
      "source": [
        "project_pages = CustomGPT.Page.get(project_id=project_id)\n",
        "page_id = project_pages.parsed.data.pages.data[0].id\n",
        "print(project_pages)"
      ]
    },
    {
      "cell_type": "markdown",
      "metadata": {
        "id": "eKgFWLtW2e6m"
      },
      "source": [
        "**Reindex Project Page**"
      ]
    },
    {
      "cell_type": "code",
      "execution_count": null,
      "metadata": {
        "colab": {
          "base_uri": "https://localhost:8080/"
        },
        "id": "RqdkSD_r2ht0",
        "outputId": "a1999e74-756a-4dff-8902-e3703a93d41d"
      },
      "outputs": [
        {
          "name": "stdout",
          "output_type": "stream",
          "text": [
            "True\n"
          ]
        }
      ],
      "source": [
        "reindenx_pages = CustomGPT.Page.reindex(project_id=project_id, page_id=page_id)\n",
        "print(reindenx_pages.parsed.data.updated)"
      ]
    }
  ],
  "metadata": {
    "colab": {
      "provenance": []
    },
    "kernelspec": {
      "display_name": "Python 3",
      "language": "python",
      "name": "python3"
    },
    "language_info": {
      "codemirror_mode": {
        "name": "ipython",
        "version": 3
      },
      "file_extension": ".py",
      "mimetype": "text/x-python",
      "name": "python",
      "nbconvert_exporter": "python",
      "pygments_lexer": "ipython3",
      "version": "3.11.2"
    }
  },
  "nbformat": 4,
  "nbformat_minor": 0
}
