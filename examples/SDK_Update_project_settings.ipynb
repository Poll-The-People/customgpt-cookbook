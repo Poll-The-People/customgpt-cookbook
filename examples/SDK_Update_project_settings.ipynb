{
  "cells": [
    {
      "cell_type": "code",
      "execution_count": null,
      "metadata": {
        "id": "cMS4FTgtE0s1"
      },
      "outputs": [],
      "source": [
        "!pip install customgpt-client"
      ]
    },
    {
      "cell_type": "markdown",
      "metadata": {
        "id": "PAWpaaSa1WLi"
      },
      "source": [
        "**Create your custom chat bot using a sitemap.**\n"
      ]
    },
    {
      "cell_type": "code",
      "execution_count": null,
      "metadata": {
        "id": "Hc9SsdoR1WLm"
      },
      "outputs": [],
      "source": [
        "from customgpt_client import CustomGPT\n",
        "CustomGPT.api_key = \"YOUR_API_TOKEN\""
      ]
    },
    {
      "cell_type": "markdown",
      "metadata": {
        "id": "Z1ISHsxb1WLo"
      },
      "source": [
        "**An example for to create a project with a sitemap**"
      ]
    },
    {
      "cell_type": "code",
      "execution_count": null,
      "metadata": {
        "id": "PNbGtm_A1WLp"
      },
      "outputs": [],
      "source": [
        "# Give a name to your project\n",
        "project_name = 'Example ChatBot using Sitemap'\n",
        "sitemap_path = 'https://adorosario.github.io/small-sitemap.xml'\n",
        "\n",
        "create_project = CustomGPT.Project.create(project_name=project_name, sitemap_path=sitemap_path)\n",
        "print(create_project)"
      ]
    },
    {
      "cell_type": "markdown",
      "metadata": {
        "id": "JgXAwGsFavRE"
      },
      "source": [
        "**Get Project settings**"
      ]
    },
    {
      "cell_type": "code",
      "execution_count": null,
      "metadata": {
        "id": "ptvLSyBIambC"
      },
      "outputs": [],
      "source": [
        "project_id = create_project.parsed.data.id\n",
        "project_setting = CustomGPT.ProjectSettings.get(project_id=project_id)\n",
        "print(project_setting)"
      ]
    },
    {
      "cell_type": "markdown",
      "metadata": {
        "id": "uG1qGrYuEr9_"
      },
      "source": [
        "**Update Project Settings**"
      ]
    },
    {
      "cell_type": "code",
      "execution_count": null,
      "metadata": {
        "id": "F2_m9gmjEro-"
      },
      "outputs": [],
      "source": [
        "from google.colab import files\n",
        "from customgpt_client.types import File\n",
        "\n",
        "chatbot_avatar = files.upload()\n",
        "file_content_avatar = next(iter(chatbot_avatar.values()))\n",
        "chatbot_background = files.upload()\n",
        "\n",
        "file_content_bg = next(iter(chatbot_background.values()))\n",
        "default_prompt = 'Ask away'\n",
        "example_questions = ['post', 'post2']\n",
        "\n",
        "chatbot_msg_lang = 'ur'\n",
        "\n",
        "update_project_setting = CustomGPT.ProjectSettings.update(project_id=project_id, chat_bot_avatar=File(payload=file_content_avatar, file_name='Yes'), chat_bot_bg=File(payload=file_content_bg, file_name='test'), default_prompt=default_prompt, example_questions=example_questions, chatbot_msg_lang=chatbot_msg_lang)\n",
        "\n",
        "print(update_project_setting)"
      ]
    },
    {
      "cell_type": "markdown",
      "metadata": {
        "id": "QL2nBEDgHSBV"
      },
      "source": [
        "**Check Project Settings update**"
      ]
    },
    {
      "cell_type": "code",
      "execution_count": null,
      "metadata": {
        "id": "Ly6EVJhKHWwU"
      },
      "outputs": [],
      "source": [
        "project_setting = CustomGPT.ProjectSettings.get(project_id=project_id)\n",
        "print(project_setting)"
      ]
    }
  ],
  "metadata": {
    "colab": {
      "provenance": []
    },
    "kernelspec": {
      "display_name": "Python 3",
      "language": "python",
      "name": "python3"
    },
    "language_info": {
      "codemirror_mode": {
        "name": "ipython",
        "version": 3
      },
      "file_extension": ".py",
      "mimetype": "text/x-python",
      "name": "python",
      "nbconvert_exporter": "python",
      "pygments_lexer": "ipython3",
      "version": "3.11.2"
    }
  },
  "nbformat": 4,
  "nbformat_minor": 0
}
