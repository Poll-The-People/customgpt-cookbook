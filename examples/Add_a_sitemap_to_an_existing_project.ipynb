{
  "cells": [
    {
      "cell_type": "markdown",
      "metadata": {
        "id": "PAWpaaSa1WLi"
      },
      "source": [
        "**Add a sitemap to an existing project**\n"
      ]
    },
    {
      "cell_type": "code",
      "execution_count": 1,
      "metadata": {
        "id": "Hc9SsdoR1WLm"
      },
      "outputs": [],
      "source": [
        "# setup API URL and API Token\n",
        "api_endpoint = 'https://app.customgpt.ai/api/v1/'\n",
        "api_token = 'ADD_YOUR_API_TOKEN_HERE'\n",
        "\n",
        "headers = {\n",
        "    'Content-type': 'application/json',\n",
        "    'Authorization': 'Bearer ' + api_token\n",
        "}\n",
        "# imports\n",
        "import requests\n",
        "import json"
      ]
    },
    {
      "cell_type": "markdown",
      "metadata": {
        "id": "PpE82Xu4XCRY"
      },
      "source": [
        "**Add a sitemap to project**"
      ]
    },
    {
      "cell_type": "code",
      "execution_count": null,
      "metadata": {
        "colab": {
          "base_uri": "https://localhost:8080/"
        },
        "id": "iMHuDBmDWcLU",
        "outputId": "fc6373d3-683b-46d0-f4a4-bbbdf7d42030"
      },
      "outputs": [
        {
          "name": "stdout",
          "output_type": "stream",
          "text": [
            "{\"data\":{\"id\":1592,\"created_at\":\"2023-07-06T20:33:04.000000Z\",\"updated_at\":\"2023-07-06T20:33:04.000000Z\",\"type\":\"sitemap\",\"settings\":{\"sitemap_path\":\"https:\\/\\/adorosario.github.io\\/small-sitemap.xml\",\"data_refresh\":false,\"executive_js\":true,\"data_refresh_frequency\":\"never\"}},\"status\":\"success\"}\n"
          ]
        }
      ],
      "source": [
        "# get the project ID of your agent from customGPT platform > deploy section\n",
        "project_id = 1234 # 1234 is taken as a sample\n",
        "\n",
        "new_sitemap_path = 'https://adorosario.github.io/small-sitemap.xml'\n",
        "\n",
        "payload = json.dumps({\n",
        "    \"sitemap_path\": new_sitemap_path\n",
        "})\n",
        "\n",
        "url = api_endpoint + 'projects' + f\"/{project_id}/\" + 'sources'\n",
        "\n",
        "create_source = requests.request('POST', url, headers=headers, data=payload)\n",
        "\n",
        "print(create_source.text)\n"
      ]
    }
  ],
  "metadata": {
    "colab": {
      "provenance": []
    },
    "kernelspec": {
      "display_name": "Python 3",
      "language": "python",
      "name": "python3"
    },
    "language_info": {
      "codemirror_mode": {
        "name": "ipython",
        "version": 3
      },
      "file_extension": ".py",
      "mimetype": "text/x-python",
      "name": "python",
      "nbconvert_exporter": "python",
      "pygments_lexer": "ipython3",
      "version": "3.11.2"
    }
  },
  "nbformat": 4,
  "nbformat_minor": 0
}
