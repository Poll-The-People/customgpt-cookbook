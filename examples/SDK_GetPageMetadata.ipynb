{
  "cells": [
    {
      "cell_type": "code",
      "execution_count": null,
      "metadata": {
        "id": "eZWXtZ0nfAoA"
      },
      "outputs": [],
      "source": [
        "!pip install customgpt-client"
      ]
    },
    {
      "cell_type": "markdown",
      "metadata": {
        "id": "KypGOfYUfIR9"
      },
      "source": [
        "**Configure CustomGPT**"
      ]
    },
    {
      "cell_type": "code",
      "execution_count": 4,
      "metadata": {
        "id": "6l-_SXCKfQ6q"
      },
      "outputs": [],
      "source": [
        "from customgpt_client import CustomGPT\n",
        "CustomGPT.api_key = \"YOUR_API_KEY\""
      ]
    },
    {
      "cell_type": "markdown",
      "metadata": {
        "id": "b4Zh1NvwfUx0"
      },
      "source": [
        "**Create a Chatbot**"
      ]
    },
    {
      "cell_type": "code",
      "execution_count": null,
      "metadata": {
        "id": "AGD7EdMYgXUD"
      },
      "outputs": [],
      "source": [
        "from google.colab import files\n",
        "from customgpt_client.types import File\n",
        "# Give a name to your project\n",
        "project_name = 'Example ChatBot using Sitemap'\n",
        "uploaded_file = files.upload()\n",
        "file_content = next(iter(uploaded_file.values()))\n",
        "print(file_content)\n",
        "create_project = CustomGPT.Project.create(project_name=project_name, file=File(payload=file_content, file_name='Yes.doc'))\n",
        "print(create_project)"
      ]
    },
    {
      "cell_type": "markdown",
      "metadata": {
        "id": "_fQc28ICgbZ6"
      },
      "source": [
        "**Get a project page**"
      ]
    },
    {
      "cell_type": "code",
      "execution_count": null,
      "metadata": {
        "id": "iE7Urhq7g06t"
      },
      "outputs": [],
      "source": [
        "project_id = create_project.parsed.data.id\n",
        "project_page = CustomGPT.Page.get(project_id=project_id)\n",
        "\n",
        "data = project_page.parsed.data\n",
        "print(data)\n",
        "\n",
        "page_id = data.pages.data[0].id\n",
        "print(page_id)"
      ]
    },
    {
      "cell_type": "markdown",
      "metadata": {
        "id": "2HMP-W40jXH-"
      },
      "source": [
        "**Get page metadata**"
      ]
    },
    {
      "cell_type": "code",
      "execution_count": null,
      "metadata": {
        "id": "bJYqBzHdiFHv"
      },
      "outputs": [],
      "source": [
        "page_metadata = CustomGPT.PageMetadata.get(project_id=project_id, page_id=page_id)\n",
        "data = page_metadata.parsed.data\n",
        "\n",
        "print(data)\n",
        "print(data.title)"
      ]
    },
    {
      "cell_type": "markdown",
      "metadata": {
        "id": "PxWvN0yAoaWU"
      },
      "source": [
        "**Update Project Metadata**"
      ]
    },
    {
      "cell_type": "code",
      "execution_count": null,
      "metadata": {
        "id": "m6axeH_KoeSC"
      },
      "outputs": [],
      "source": [
        "page_metadata = CustomGPT.PageMetadata.update(project_id=project_id, page_id=page_id, title='Vanka')\n",
        "data = page_metadata.parsed.data\n",
        "print(data)"
      ]
    }
  ],
  "metadata": {
    "colab": {
      "provenance": []
    },
    "kernelspec": {
      "display_name": "Python 3",
      "name": "python3"
    },
    "language_info": {
      "name": "python"
    }
  },
  "nbformat": 4,
  "nbformat_minor": 0
}
